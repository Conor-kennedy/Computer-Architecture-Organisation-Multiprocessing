{
 "cells": [
  {
   "cell_type": "markdown",
   "metadata": {},
   "source": [
    "### Student Name: Conor Kennedy \n",
    "### Student Number: 16722649\n",
    "\n",
    "---\n",
    "\n",
    "# Multiprocessing using Pools \n",
    "A simple framework for assessing the impact of multiprocessing on runtime on a multi-core machine. "
   ]
  },
  {
   "cell_type": "code",
   "execution_count": 2,
   "metadata": {},
   "outputs": [],
   "source": [
    "import time\n",
    "import math\n",
    "import multiprocessing\n",
    "from multiprocessing import Pool\n",
    "import unittest\n",
    "import random\n",
    "import time\n",
    "import numpy as np\n",
    "import matplotlib.pyplot as plt\n",
    "\n",
    "# A function for timing a job that uses a pool of processes.\n",
    "#  f is a function that takes a single argument\n",
    "#  data is an array of arguments on which f will be mapped\n",
    "#  pool_size is the number of processes in the pool. \n",
    "\n",
    "def pool_process(f, data, pool_size):\n",
    "    tp1 = time.time()\n",
    "    pool = Pool(processes=pool_size) # initialize the Pool.\n",
    "    result = pool.map(f, data)       # map f to the data using the Pool of processes to do the work \n",
    "    pool.close() # No more processes\n",
    "    pool.join()  # Wait for the pool processing to complete. \n",
    "    print(\"Results\", result)\n",
    "    time_taken = int(time.time()-tp1)\n",
    "    print(\"Overall Time:\", time_taken)\n",
    " "
   ]
  },
  {
   "cell_type": "code",
   "execution_count": 112,
   "metadata": {},
   "outputs": [],
   "source": [
    "def my_func(x):\n",
    "    s = math.sqrt(x)\n",
    "    return s"
   ]
  },
  {
   "cell_type": "code",
   "execution_count": 113,
   "metadata": {},
   "outputs": [],
   "source": [
    "# This verbose version shows which process in the pool is running each task. \n",
    "def my_func_verbose(x):\n",
    "    s = math.sqrt(x)\n",
    "    print(\"Task\", multiprocessing.current_process(), x, s)\n",
    "    return s"
   ]
  },
  {
   "cell_type": "code",
   "execution_count": 114,
   "metadata": {},
   "outputs": [],
   "source": [
    "dataRange = range(10)"
   ]
  },
  {
   "cell_type": "markdown",
   "metadata": {},
   "source": [
    "Use the pool_process function to apply my_func to the data in dataRange.  \n",
    "This task is so light it requires very little processing time. "
   ]
  },
  {
   "cell_type": "code",
   "execution_count": 3,
   "metadata": {},
   "outputs": [],
   "source": [
    "import functions as functions"
   ]
  },
  {
   "cell_type": "code",
   "execution_count": 116,
   "metadata": {},
   "outputs": [
    {
     "name": "stdout",
     "output_type": "stream",
     "text": [
      "Results [0.0, 1.0, 1.4142135623730951, 1.7320508075688772, 2.0, 2.23606797749979, 2.449489742783178, 2.6457513110645907, 2.8284271247461903, 3.0]\n",
      "Overall Time: 0\n"
     ]
    }
   ],
   "source": [
    "pool_process(functions.my_func, dataRange, 2)"
   ]
  },
  {
   "cell_type": "code",
   "execution_count": 117,
   "metadata": {},
   "outputs": [
    {
     "name": "stdout",
     "output_type": "stream",
     "text": [
      "Results [0.0, 1.0, 1.4142135623730951, 1.7320508075688772, 2.0, 2.23606797749979, 2.449489742783178, 2.6457513110645907, 2.8284271247461903, 3.0]\n",
      "Overall Time: 0\n"
     ]
    }
   ],
   "source": [
    "pool_process(functions.my_func_verbose, dataRange, 2)"
   ]
  },
  {
   "cell_type": "markdown",
   "metadata": {},
   "source": [
    "### Q1 - Connect the check_prime function to the Pool processing function. Generate sets of work (numbers to be checked) to be processed by the pool. Quantify the speedup achieved with multiple cores (at least 2). What lessons can be learned from these results?"
   ]
  },
  {
   "cell_type": "markdown",
   "metadata": {},
   "source": [
    "## A naive function for checking primes "
   ]
  },
  {
   "cell_type": "code",
   "execution_count": 237,
   "metadata": {},
   "outputs": [],
   "source": [
    "def check_prime(num):\n",
    "    t1 = time.time()\n",
    "    res = False\n",
    "    if num > 0:\n",
    "        # check for factors\n",
    "        for i in range(2,num):\n",
    "            if (num % i) == 0:\n",
    "                print(num,\"is not a prime number\")\n",
    "                print(i,\"times\",num//i,\"is\",num)\n",
    "                print(\"Time:\", int(time.time()-t1))\n",
    "                break\n",
    "        else:\n",
    "            print(num,\"is a prime number\")\n",
    "            print(\"Time:\", time.time()-t1) \n",
    "            res = True\n",
    "            # if input number is less than\n",
    "            # or equal to 1, it is not prime\n",
    "    return res\n"
   ]
  },
  {
   "cell_type": "code",
   "execution_count": 238,
   "metadata": {},
   "outputs": [
    {
     "name": "stderr",
     "output_type": "stream",
     "text": [
      "test_1 (__main__.Test_Factorial_Function) ... ok\n",
      "test_2 (__main__.Test_Factorial_Function) ... ok\n",
      "test_3 (__main__.Test_Factorial_Function) ... ok\n",
      "test_1 (__main__.Test_Prime_Function) ... ok\n",
      "test_2 (__main__.Test_Prime_Function) ... ok\n",
      "test_3 (__main__.Test_Prime_Function) ... "
     ]
    },
    {
     "name": "stdout",
     "output_type": "stream",
     "text": [
      "2 is a prime number\n",
      "Time: 0.00027108192443847656\n",
      "7 is a prime number\n",
      "Time: 0.00011491775512695312\n",
      "1000 is not a prime number\n",
      "2 times 500 is 1000\n",
      "Time: 0\n"
     ]
    },
    {
     "name": "stderr",
     "output_type": "stream",
     "text": [
      "FAIL\n",
      "\n",
      "======================================================================\n",
      "FAIL: test_3 (__main__.Test_Prime_Function)\n",
      "----------------------------------------------------------------------\n",
      "Traceback (most recent call last):\n",
      "  File \"<ipython-input-238-046ae6dd7891>\", line 13, in test_3\n",
      "    self.assertTrue(check_prime(1000))\n",
      "AssertionError: False is not true\n",
      "\n",
      "----------------------------------------------------------------------\n",
      "Ran 6 tests in 0.017s\n",
      "\n",
      "FAILED (failures=1)\n"
     ]
    },
    {
     "data": {
      "text/plain": [
       "<unittest.main.TestProgram at 0x7fd71338d580>"
      ]
     },
     "execution_count": 238,
     "metadata": {},
     "output_type": "execute_result"
    }
   ],
   "source": [
    "class Test_Prime_Function(unittest.TestCase):\n",
    "    \n",
    "    def test_1(self):\n",
    "        self.assertTrue(check_prime(2))\n",
    "        \n",
    "    def test_2(self):\n",
    "        self.assertTrue(check_prime(7))\n",
    "        \n",
    "    def test_3(self):\n",
    "        self.assertTrue(check_prime(5))\n",
    "    \n",
    "    def test_3(self):\n",
    "        self.assertTrue(check_prime(1000))\n",
    "        \n",
    "        \n",
    "        \n",
    "unittest.main(argv=[''], verbosity=2, exit=False)"
   ]
  },
  {
   "cell_type": "code",
   "execution_count": 120,
   "metadata": {},
   "outputs": [
    {
     "name": "stdout",
     "output_type": "stream",
     "text": [
      "15488801 is a prime number\n",
      "Time: 6.656241178512573\n"
     ]
    },
    {
     "data": {
      "text/plain": [
       "True"
      ]
     },
     "execution_count": 120,
     "metadata": {},
     "output_type": "execute_result"
    }
   ],
   "source": [
    "check_prime(15488801)"
   ]
  },
  {
   "cell_type": "code",
   "execution_count": 121,
   "metadata": {},
   "outputs": [
    {
     "name": "stdout",
     "output_type": "stream",
     "text": [
      "15488803 is not a prime number\n",
      "11 times 1408073 is 15488803\n",
      "Time: 0\n"
     ]
    },
    {
     "data": {
      "text/plain": [
       "False"
      ]
     },
     "execution_count": 121,
     "metadata": {},
     "output_type": "execute_result"
    }
   ],
   "source": [
    "check_prime(15488803)"
   ]
  },
  {
   "cell_type": "code",
   "execution_count": 122,
   "metadata": {},
   "outputs": [],
   "source": [
    "textfile = open(\"primes2.txt\", 'r')\n",
    "numbers = []\n",
    "for line in textfile:\n",
    "    line = line.split()\n",
    "    for number in line:\n",
    "        numbers.append(int(number)) "
   ]
  },
  {
   "cell_type": "code",
   "execution_count": 123,
   "metadata": {},
   "outputs": [
    {
     "data": {
      "text/plain": [
       "1000000"
      ]
     },
     "execution_count": 123,
     "metadata": {},
     "output_type": "execute_result"
    }
   ],
   "source": [
    "len(numbers)"
   ]
  },
  {
   "cell_type": "code",
   "execution_count": 124,
   "metadata": {},
   "outputs": [
    {
     "data": {
      "text/plain": [
       "434079"
      ]
     },
     "execution_count": 124,
     "metadata": {},
     "output_type": "execute_result"
    }
   ],
   "source": [
    "random.randint(0, 999999)"
   ]
  },
  {
   "cell_type": "code",
   "execution_count": 125,
   "metadata": {},
   "outputs": [],
   "source": [
    "number_list = []\n",
    "\n",
    "for i in range(10):\n",
    "    random_index = random.randint(0, 999999)\n",
    "    add_number = numbers[random_index]\n",
    "    number_list.append(add_number)\n",
    "    "
   ]
  },
  {
   "cell_type": "code",
   "execution_count": 126,
   "metadata": {},
   "outputs": [
    {
     "data": {
      "text/plain": [
       "10"
      ]
     },
     "execution_count": 126,
     "metadata": {},
     "output_type": "execute_result"
    }
   ],
   "source": [
    "len(number_list)"
   ]
  },
  {
   "cell_type": "code",
   "execution_count": 127,
   "metadata": {},
   "outputs": [],
   "source": [
    "random.shuffle(number_list)"
   ]
  },
  {
   "cell_type": "code",
   "execution_count": 128,
   "metadata": {},
   "outputs": [
    {
     "data": {
      "text/plain": [
       "10"
      ]
     },
     "execution_count": 128,
     "metadata": {},
     "output_type": "execute_result"
    }
   ],
   "source": [
    "len(number_list)"
   ]
  },
  {
   "cell_type": "code",
   "execution_count": 129,
   "metadata": {},
   "outputs": [
    {
     "name": "stdout",
     "output_type": "stream",
     "text": [
      "[23785109, 30600679, 22120913, 20535187, 23904973, 32135767, 28653923, 20510521, 18550793, 31695959]\n"
     ]
    }
   ],
   "source": [
    "print(number_list)"
   ]
  },
  {
   "cell_type": "code",
   "execution_count": 130,
   "metadata": {},
   "outputs": [
    {
     "name": "stdout",
     "output_type": "stream",
     "text": [
      "Results [True, True, True, True, True, True, True, True, True, True]\n",
      "Overall Time: 70\n"
     ]
    }
   ],
   "source": [
    "pool_process(functions.check_prime, number_list, 2)"
   ]
  },
  {
   "cell_type": "code",
   "execution_count": 132,
   "metadata": {},
   "outputs": [],
   "source": [
    "number_of_cores = multiprocessing.cpu_count()"
   ]
  },
  {
   "cell_type": "code",
   "execution_count": 133,
   "metadata": {},
   "outputs": [
    {
     "name": "stdout",
     "output_type": "stream",
     "text": [
      "4\n"
     ]
    }
   ],
   "source": [
    "print(number_of_cores)"
   ]
  },
  {
   "cell_type": "code",
   "execution_count": 134,
   "metadata": {},
   "outputs": [
    {
     "name": "stdout",
     "output_type": "stream",
     "text": [
      "Running on 1 processor:\n",
      "Results [True, True, True, True, True, True, True, True, True, True]\n",
      "Overall Time: 114\n",
      "114\n",
      "sleeping...\n",
      "5\n",
      "4\n",
      "3\n",
      "2\n",
      "1\n",
      "0\n",
      "\n",
      "Running on 2 processors:\n",
      "Results [True, True, True, True, True, True, True, True, True, True]\n",
      "Overall Time: 74\n",
      "74\n",
      "sleeping...\n",
      "5\n",
      "4\n",
      "3\n",
      "2\n",
      "1\n",
      "0\n",
      "\n",
      "Running on 3 processors:\n",
      "Results [True, True, True, True, True, True, True, True, True, True]\n",
      "Overall Time: 50\n",
      "50\n",
      "sleeping...\n",
      "5\n",
      "4\n",
      "3\n",
      "2\n",
      "1\n",
      "0\n",
      "\n",
      "Running on 4 processors:\n",
      "Results [True, True, True, True, True, True, True, True, True, True]\n",
      "Overall Time: 45\n",
      "45\n",
      "sleeping...\n",
      "5\n",
      "4\n",
      "3\n",
      "2\n",
      "1\n",
      "0\n"
     ]
    }
   ],
   "source": [
    "cores = []\n",
    "times_list = []\n",
    "\n",
    "for i in range(1, (number_of_cores + 1)):\n",
    "    \n",
    "    if i == 1 :\n",
    "        print(\"Running on\", i, \"processor:\")\n",
    "        cores.append(i)\n",
    "        tp2 = time.time()\n",
    "        pool_process(functions.check_prime, number_list, i)\n",
    "        time_taken = int(time.time()-tp2)\n",
    "        print(time_taken)\n",
    "        times_list.append(time_taken)\n",
    "        print(\"sleeping...\")\n",
    "        counter = 5\n",
    "        while counter >= 0 :\n",
    "            time.sleep(1)\n",
    "            print(counter)\n",
    "            counter -= 1\n",
    "            \n",
    "    else :\n",
    "        print()\n",
    "        print(\"Running on\", i, \"processors:\")\n",
    "        cores.append(i)\n",
    "        tp2 = time.time()\n",
    "        pool_process(functions.check_prime, number_list, i)\n",
    "        time_taken = int(time.time()-tp2)\n",
    "        print(time_taken)\n",
    "        times_list.append(time_taken)\n",
    "        print(\"sleeping...\")\n",
    "        counter = 5\n",
    "        while counter >= 0 :\n",
    "            time.sleep(1)\n",
    "            print(counter)\n",
    "            counter -= 1\n"
   ]
  },
  {
   "cell_type": "code",
   "execution_count": 135,
   "metadata": {},
   "outputs": [
    {
     "name": "stdout",
     "output_type": "stream",
     "text": [
      "[1, 2, 3, 4]\n",
      "[114, 74, 50, 45]\n"
     ]
    }
   ],
   "source": [
    "print(cores)\n",
    "print(times_list)"
   ]
  },
  {
   "cell_type": "code",
   "execution_count": 220,
   "metadata": {},
   "outputs": [
    {
     "data": {
      "text/plain": [
       "([<matplotlib.axis.XTick at 0x7fd712baaee0>,\n",
       "  <matplotlib.axis.XTick at 0x7fd712baaeb0>,\n",
       "  <matplotlib.axis.XTick at 0x7fd712ba6a00>,\n",
       "  <matplotlib.axis.XTick at 0x7fd712c62a30>],\n",
       " [Text(0, 0, ''), Text(0, 0, ''), Text(0, 0, ''), Text(0, 0, '')])"
      ]
     },
     "execution_count": 220,
     "metadata": {},
     "output_type": "execute_result"
    },
    {
     "data": {
      "image/png": "[encoded data removed]",
      "text/plain": [
       "<Figure size 432x288 with 1 Axes>"
      ]
     },
     "metadata": {
      "needs_background": "light"
     },
     "output_type": "display_data"
    }
   ],
   "source": [
    "plt.xlabel('CPU Cores')\n",
    "plt.ylabel('Time taken')\n",
    "plt.title('Run Time versus Number of CPU cores')\n",
    "plt.plot(cores, times_list, '-o')\n",
    "plt.xticks(cores)"
   ]
  },
  {
   "cell_type": "code",
   "execution_count": 148,
   "metadata": {},
   "outputs": [
    {
     "name": "stdout",
     "output_type": "stream",
     "text": [
      "[114, 74, 50, 45]\n",
      "[1, 2, 3, 4]\n"
     ]
    }
   ],
   "source": [
    "print(times_list)\n",
    "print(cores)"
   ]
  },
  {
   "cell_type": "code",
   "execution_count": 167,
   "metadata": {},
   "outputs": [
    {
     "name": "stdout",
     "output_type": "stream",
     "text": [
      "[114, 74, 50, 45]\n"
     ]
    }
   ],
   "source": [
    "print(times_list)"
   ]
  },
  {
   "cell_type": "code",
   "execution_count": 176,
   "metadata": {},
   "outputs": [
    {
     "name": "stdout",
     "output_type": "stream",
     "text": [
      "64.91\n",
      "43.86\n",
      "39.47\n"
     ]
    }
   ],
   "source": [
    "for i in cores :\n",
    "    if i == 1 :\n",
    "        continue\n",
    "    elif i > 1 :\n",
    "        print(round(100*(times_list[i - 1]/ times_list[0]), 2))"
   ]
  },
  {
   "cell_type": "code",
   "execution_count": 189,
   "metadata": {},
   "outputs": [
    {
     "name": "stdout",
     "output_type": "stream",
     "text": [
      "The percentage increase in speed with 2 processors compared to 1 processor is 64.91\n",
      "The percentage increase in speed with 3 processors compared to 1 processor is 43.86\n",
      "The percentage increase in speed with 4 processors compared to 1 processor is 39.47\n"
     ]
    }
   ],
   "source": [
    "#comparing processing time with the time of the initial 1 processor:\n",
    "\n",
    "for i in cores :\n",
    "    if i == 1 :\n",
    "        continue\n",
    "    else :\n",
    "        print(\"The percentage increase in speed with\", i,  \"CPU cores compared to 1 CPU core is\", str(round(100*(times_list[i - 1]/ times_list[0]), 2)))\n",
    "              "
   ]
  },
  {
   "cell_type": "code",
   "execution_count": 200,
   "metadata": {},
   "outputs": [
    {
     "name": "stdout",
     "output_type": "stream",
     "text": [
      "The difference in speed as a percent with 2 processors compared to 1 processor is minus 35.09 %\n",
      "The difference in speed as a percent with 3 processors compared to 2 processor is minus 32.43 %\n",
      "The difference in speed as a percent with 4 processors compared to 3 processor is minus 10.0 %\n"
     ]
    }
   ],
   "source": [
    "#comparing processing time with the time of the previous amount of processors:\n",
    "\n",
    "for i in cores :\n",
    "    if i == 1 :\n",
    "        continue\n",
    "    else :\n",
    "        x = i - 1\n",
    "        print(\"The difference in speed as a percent with\", i,  \"CPU cores compared to\", x, \"CPU cores is minus\", str(round(100 - (100*(times_list[i - 1] / times_list[i - 2])), 2)), \"%\")\n",
    "\n",
    "        #print(\"The percentage increase in speed with\", i,  \"processors compared to 1 processor is\", str(round(100*(times_list[i - 1]/ times_list[0]), 2)))\n",
    "\n"
   ]
  },
  {
   "cell_type": "code",
   "execution_count": 138,
   "metadata": {},
   "outputs": [],
   "source": [
    "number_list_shortened = number_list[:5]"
   ]
  },
  {
   "cell_type": "code",
   "execution_count": 139,
   "metadata": {},
   "outputs": [
    {
     "name": "stdout",
     "output_type": "stream",
     "text": [
      "[23785109, 30600679, 22120913, 20535187, 23904973]\n"
     ]
    }
   ],
   "source": [
    "print(number_list_shortened)"
   ]
  },
  {
   "cell_type": "code",
   "execution_count": 140,
   "metadata": {},
   "outputs": [
    {
     "name": "stdout",
     "output_type": "stream",
     "text": [
      "Running on 1 processor\n",
      "Results [True]\n",
      "Overall Time: 11\n",
      "Results [True, True]\n",
      "Overall Time: 25\n",
      "Results [True, True, True]\n",
      "Overall Time: 35\n",
      "Results [True, True, True, True]\n",
      "Overall Time: 49\n",
      "Results [True, True, True, True, True]\n",
      "Overall Time: 53\n",
      "\n",
      "Running on 2 processors\n",
      "Results [True]\n",
      "Overall Time: 10\n",
      "Results [True, True]\n",
      "Overall Time: 14\n",
      "Results [True, True, True]\n",
      "Overall Time: 20\n",
      "Results [True, True, True, True]\n",
      "Overall Time: 24\n",
      "Results [True, True, True, True, True]\n",
      "Overall Time: 33\n",
      "\n",
      "Running on 3 processors\n",
      "Results [True]\n",
      "Overall Time: 10\n",
      "Results [True, True]\n",
      "Overall Time: 15\n",
      "Results [True, True, True]\n",
      "Overall Time: 15\n",
      "Results [True, True, True, True]\n",
      "Overall Time: 20\n",
      "Results [True, True, True, True, True]\n",
      "Overall Time: 24\n",
      "\n",
      "Running on 4 processors\n",
      "Results [True]\n",
      "Overall Time: 10\n",
      "Results [True, True]\n",
      "Overall Time: 14\n",
      "Results [True, True, True]\n",
      "Overall Time: 15\n",
      "Results [True, True, True, True]\n",
      "Overall Time: 17\n",
      "Results [True, True, True, True, True]\n",
      "Overall Time: 22\n"
     ]
    }
   ],
   "source": [
    "time_taken = []\n",
    "time_taken_p1 = []\n",
    "time_taken_p2 = []\n",
    "time_taken_p3 = []\n",
    "time_taken_p4 = []\n",
    "    \n",
    "for x in range(1, 5): \n",
    "    \n",
    "    if x == 1:\n",
    "        print(\"Running on\", x, \"processor\")\n",
    "    else :\n",
    "        print()\n",
    "        print(\"Running on\", x, \"processors\")\n",
    "    \n",
    "    subsequence_list = []\n",
    "    \n",
    "    new_list = []\n",
    "        \n",
    "    for i in number_list_shortened:\n",
    "            \n",
    "        subsequence_list.append(i)\n",
    "        \n",
    "        sum_time = 0\n",
    "        \n",
    "        start_time = time.time()\n",
    "        \n",
    "        pool_process(functions.check_prime, subsequence_list, x)   \n",
    "        \n",
    "        stop_time = time.time()\n",
    "        \n",
    "        elapsed_time = stop_time - start_time\n",
    "        \n",
    "        if x == 1:\n",
    "            time_taken_p1.append(elapsed_time)\n",
    "        elif x == 2 :\n",
    "            time_taken_p2.append(elapsed_time)\n",
    "        elif x == 3 :\n",
    "            time_taken_p3.append(elapsed_time)\n",
    "        else :\n",
    "            time_taken_p4.append(elapsed_time)\n",
    "            \n",
    "        new_list.append(elapsed_time)\n",
    "        \n",
    "    time_taken.append(new_list)"
   ]
  },
  {
   "cell_type": "code",
   "execution_count": 225,
   "metadata": {},
   "outputs": [
    {
     "data": {
      "text/plain": [
       "<matplotlib.legend.Legend at 0x7fd7133279d0>"
      ]
     },
     "execution_count": 225,
     "metadata": {},
     "output_type": "execute_result"
    },
    {
     "data": {
      "image/png": "[encoded data removed]",
      "text/plain": [
       "<Figure size 720x720 with 1 Axes>"
      ]
     },
     "metadata": {
      "needs_background": "light"
     },
     "output_type": "display_data"
    }
   ],
   "source": [
    "sequence_length = [1, 2, 3, 4 , 5]\n",
    "plt.figure(figsize=(10,10))\n",
    "plt.xlabel('Sequence Length')\n",
    "plt.ylabel('Time taken (seconds)')\n",
    "plt.title('Number of CPU cores versus time taken on different sequence length')\n",
    "plt.plot(sequence_length, time_taken_p1, '-o', label='1 Processor')\n",
    "plt.plot(sequence_length, time_taken_p2, '-o', label='2 Processors')\n",
    "plt.plot(sequence_length, time_taken_p3, '-o', label='3 Processors')\n",
    "plt.plot(sequence_length, time_taken_p4, '-o', label='4 Processors')\n",
    "plt.xticks(sequence_length)\n",
    "\n",
    "plt.legend()"
   ]
  },
  {
   "cell_type": "code",
   "execution_count": 142,
   "metadata": {},
   "outputs": [
    {
     "name": "stdout",
     "output_type": "stream",
     "text": [
      "[[11.850394010543823, 25.242077827453613, 35.113585233688354, 49.049440145492554, 53.00676989555359], [10.706568241119385, 14.557746887207031, 20.94239330291748, 24.190733194351196, 33.099587202072144], [10.599528074264526, 15.7935631275177, 15.93989896774292, 20.87094497680664, 24.02284002304077], [10.896455764770508, 14.339903116226196, 15.544494867324829, 17.2226459980011, 22.64823007583618]]\n"
     ]
    }
   ],
   "source": [
    "print(time_taken)"
   ]
  },
  {
   "cell_type": "code",
   "execution_count": 201,
   "metadata": {},
   "outputs": [
    {
     "name": "stdout",
     "output_type": "stream",
     "text": [
      "[11.850394010543823, 25.242077827453613, 35.113585233688354, 49.049440145492554, 53.00676989555359]\n",
      "[10.706568241119385, 14.557746887207031, 20.94239330291748, 24.190733194351196, 33.099587202072144]\n",
      "[10.599528074264526, 15.7935631275177, 15.93989896774292, 20.87094497680664, 24.02284002304077]\n",
      "[10.896455764770508, 14.339903116226196, 15.544494867324829, 17.2226459980011, 22.64823007583618]\n"
     ]
    }
   ],
   "source": [
    "for time in time_taken:\n",
    "    print(time)"
   ]
  },
  {
   "cell_type": "code",
   "execution_count": 222,
   "metadata": {},
   "outputs": [
    {
     "data": {
      "image/png": "[encoded data removed]",
      "text/plain": [
       "<Figure size 720x720 with 1 Axes>"
      ]
     },
     "metadata": {
      "needs_background": "light"
     },
     "output_type": "display_data"
    }
   ],
   "source": [
    "#adapted from - https://www.geeksforgeeks.org/create-a-grouped-bar-plot-in-matplotlib/\n",
    "\n",
    "list_one = [time[0] for time in time_taken]\n",
    "list_two = [time[1] for time in time_taken]\n",
    "list_three = [time[2] for time in time_taken]\n",
    "list_four = [time[3] for time in time_taken]\n",
    "list_five = [time[4] for time in time_taken]\n",
    "\n",
    "x = np.arange(1, 5)\n",
    "width = 0.1\n",
    "\n",
    "plt.figure(figsize=(10, 10))\n",
    "plt.bar(x-0.2, list_one, width)\n",
    "plt.bar(x-0.1, list_two, width)\n",
    "plt.bar(x, list_three, width)\n",
    "plt.bar(x+0.1, list_four, width)\n",
    "plt.bar(x+0.2, list_five, width)\n",
    "\n",
    "plt.title(\"Number of CPU cores versus time taken on different sequence lengths\")\n",
    "plt.xlabel(\"Number of CPU cores\")\n",
    "plt.ylabel(\"Time (seconds)\")\n",
    "plt.legend([\"Sequence length: \" + str(i) for i in range(1, 6)])\n",
    "plt.xticks(cores)\n",
    "plt.show()"
   ]
  },
  {
   "cell_type": "markdown",
   "metadata": {},
   "source": [
    "### Q2 - Identify an alternative processing task that will also test the CPU and repeat the assessment. What lessons can be learned from these results?\n",
    "\n",
    "#### The alternative processing task that has been chosen is the <code>factorial_iterative</code> function below."
   ]
  },
  {
   "cell_type": "code",
   "execution_count": 239,
   "metadata": {},
   "outputs": [],
   "source": [
    "def factorial_iterative(n) :\n",
    "    if n == 1 or n == 0:\n",
    "        return 1\n",
    "    else :\n",
    "        fact = n\n",
    "    \n",
    "        while n > 1 :\n",
    "            n = n - 1\n",
    "            fact = fact * n\n",
    "        return fact"
   ]
  },
  {
   "cell_type": "code",
   "execution_count": 240,
   "metadata": {},
   "outputs": [
    {
     "name": "stderr",
     "output_type": "stream",
     "text": [
      "test_1 (__main__.Test_Factorial_Function) ... ok\n",
      "test_2 (__main__.Test_Factorial_Function) ... ok\n",
      "test_3 (__main__.Test_Factorial_Function) ... ok\n",
      "test_1 (__main__.Test_Prime_Function) ... ok\n",
      "test_2 (__main__.Test_Prime_Function) ... ok\n",
      "test_3 (__main__.Test_Prime_Function) ... "
     ]
    },
    {
     "name": "stdout",
     "output_type": "stream",
     "text": [
      "2 is a prime number\n",
      "Time: 0.00032210350036621094\n",
      "7 is a prime number\n",
      "Time: 0.00027871131896972656\n",
      "1000 is not a prime number\n",
      "2 times 500 is 1000\n",
      "Time: 0\n"
     ]
    },
    {
     "name": "stderr",
     "output_type": "stream",
     "text": [
      "FAIL\n",
      "\n",
      "======================================================================\n",
      "FAIL: test_3 (__main__.Test_Prime_Function)\n",
      "----------------------------------------------------------------------\n",
      "Traceback (most recent call last):\n",
      "  File \"<ipython-input-238-046ae6dd7891>\", line 13, in test_3\n",
      "    self.assertTrue(check_prime(1000))\n",
      "AssertionError: False is not true\n",
      "\n",
      "----------------------------------------------------------------------\n",
      "Ran 6 tests in 0.011s\n",
      "\n",
      "FAILED (failures=1)\n"
     ]
    },
    {
     "data": {
      "text/plain": [
       "<unittest.main.TestProgram at 0x7fd71338d610>"
      ]
     },
     "execution_count": 240,
     "metadata": {},
     "output_type": "execute_result"
    }
   ],
   "source": [
    "class Test_Factorial_Function(unittest.TestCase):\n",
    "    \n",
    "    def test_1(self):\n",
    "        self.assertTrue(factorial_iterative(2), 4)\n",
    "        \n",
    "    def test_2(self):\n",
    "        self.assertTrue(factorial_iterative(3), 6)\n",
    "        \n",
    "    def test_3(self):\n",
    "        self.assertTrue(factorial_iterative(4), 24)\n",
    "        \n",
    "unittest.main(argv=[''], verbosity=2, exit=False)"
   ]
  },
  {
   "cell_type": "code",
   "execution_count": 241,
   "metadata": {},
   "outputs": [
    {
     "name": "stdout",
     "output_type": "stream",
     "text": [
      "Time taken: 0.0002129077911376953\n"
     ]
    }
   ],
   "source": [
    "start_time = time.time()\n",
    "factorial_iterative(5)\n",
    "elapsed_time = time.time() - start_time\n",
    "print(\"Time taken:\", elapsed_time)"
   ]
  },
  {
   "cell_type": "code",
   "execution_count": 243,
   "metadata": {},
   "outputs": [
    {
     "name": "stdout",
     "output_type": "stream",
     "text": [
      "Time taken: 16.87700605392456\n"
     ]
    }
   ],
   "source": [
    "start_time = time.time()\n",
    "factorial_iterative(100000)\n",
    "elapsed_time = time.time() - start_time\n",
    "print(\"Time taken:\", elapsed_time)"
   ]
  },
  {
   "cell_type": "code",
   "execution_count": 283,
   "metadata": {},
   "outputs": [],
   "source": [
    "data = []"
   ]
  },
  {
   "cell_type": "code",
   "execution_count": 284,
   "metadata": {},
   "outputs": [],
   "source": [
    "for i in range(5):\n",
    "    random_number = random.randint(10000, 99999)\n",
    "    data.append(random_number)"
   ]
  },
  {
   "cell_type": "code",
   "execution_count": 285,
   "metadata": {},
   "outputs": [
    {
     "name": "stdout",
     "output_type": "stream",
     "text": [
      "[78265, 55583, 46591, 95425, 90602]\n"
     ]
    }
   ],
   "source": [
    "print(data)"
   ]
  },
  {
   "cell_type": "code",
   "execution_count": 286,
   "metadata": {},
   "outputs": [],
   "source": [
    "number_of_cores = multiprocessing.cpu_count()"
   ]
  },
  {
   "cell_type": "code",
   "execution_count": 287,
   "metadata": {},
   "outputs": [],
   "source": [
    "def pool_process(f, data, pool_size):\n",
    "    tp1 = time.time()\n",
    "    pool = Pool(processes=pool_size) # initialize the Pool.\n",
    "    result = pool.map(f, data)       # map f to the data using the Pool of processes to do the work \n",
    "    pool.close() # No more processes\n",
    "    pool.join()  # Wait for the pool processing to complete. \n",
    "    #print(\"Results\", result)\n",
    "    time_taken = int(time.time()-tp1)\n",
    "    print(\"Overall Time:\", time_taken)\n",
    "    return time_taken\n",
    "        "
   ]
  },
  {
   "cell_type": "code",
   "execution_count": 288,
   "metadata": {
    "scrolled": false
   },
   "outputs": [
    {
     "name": "stdout",
     "output_type": "stream",
     "text": [
      "Running on 1 processors: \n",
      "Overall Time: 44\n",
      "44\n",
      "sleeping...\n",
      "5\n",
      "4\n",
      "3\n",
      "2\n",
      "1\n",
      "0\n",
      "Running on 2 processors: \n",
      "Overall Time: 25\n",
      "25\n",
      "sleeping...\n",
      "5\n",
      "4\n",
      "3\n",
      "2\n",
      "1\n",
      "0\n",
      "Running on 3 processors: \n",
      "Overall Time: 20\n",
      "20\n",
      "sleeping...\n",
      "5\n",
      "4\n",
      "3\n",
      "2\n",
      "1\n",
      "0\n",
      "Running on 4 processors: \n",
      "Overall Time: 19\n",
      "19\n",
      "sleeping...\n",
      "5\n",
      "4\n",
      "3\n",
      "2\n",
      "1\n",
      "0\n"
     ]
    }
   ],
   "source": [
    "cores = []\n",
    "times_list = []\n",
    "\n",
    "for i in range(1, (number_of_cores + 1)):\n",
    "    print(\"Running on\", i, \"processors: \")\n",
    "    cores.append(i)\n",
    "    tp2 = time.time()\n",
    "    pool_process(functions.factorial_iterative, data, i)\n",
    "    time_taken_ = int(time.time()-tp2)\n",
    "    print(time_taken_)\n",
    "    times_list.append(time_taken_)\n",
    "    print(\"sleeping...\")\n",
    "    counter = 5\n",
    "    while counter >= 0 :\n",
    "        time.sleep(1)\n",
    "        print(counter)\n",
    "        counter -= 1"
   ]
  },
  {
   "cell_type": "code",
   "execution_count": 289,
   "metadata": {},
   "outputs": [
    {
     "name": "stdout",
     "output_type": "stream",
     "text": [
      "[44, 25, 20, 19]\n"
     ]
    }
   ],
   "source": [
    "print(times_list)"
   ]
  },
  {
   "cell_type": "code",
   "execution_count": 290,
   "metadata": {},
   "outputs": [
    {
     "data": {
      "text/plain": [
       "([<matplotlib.axis.XTick at 0x7fd71429c7c0>,\n",
       "  <matplotlib.axis.XTick at 0x7fd71429c790>,\n",
       "  <matplotlib.axis.XTick at 0x7fd714096fa0>,\n",
       "  <matplotlib.axis.XTick at 0x7fd712962370>],\n",
       " [Text(0, 0, ''), Text(0, 0, ''), Text(0, 0, ''), Text(0, 0, '')])"
      ]
     },
     "execution_count": 290,
     "metadata": {},
     "output_type": "execute_result"
    },
    {
     "data": {
      "image/png": "[encoded data removed]",
      "text/plain": [
       "<Figure size 432x288 with 1 Axes>"
      ]
     },
     "metadata": {
      "needs_background": "light"
     },
     "output_type": "display_data"
    }
   ],
   "source": [
    "plt.xlabel('CPU Cores')\n",
    "plt.ylabel('Time taken')\n",
    "plt.title('Run Time versus Number of Processors')\n",
    "plt.plot(cores, times_list,  '-o',)\n",
    "plt.xticks(cores)"
   ]
  },
  {
   "cell_type": "markdown",
   "metadata": {},
   "source": [
    "### Looking at the impact of sequence length:"
   ]
  },
  {
   "cell_type": "code",
   "execution_count": 272,
   "metadata": {},
   "outputs": [],
   "source": [
    "data = []"
   ]
  },
  {
   "cell_type": "code",
   "execution_count": 273,
   "metadata": {},
   "outputs": [],
   "source": [
    "for i in range(5):\n",
    "    random_number = random.randint(50000, 99999)\n",
    "    data.append(random_number)"
   ]
  },
  {
   "cell_type": "code",
   "execution_count": 274,
   "metadata": {},
   "outputs": [
    {
     "name": "stdout",
     "output_type": "stream",
     "text": [
      "[90891, 81164, 80501, 76044, 99203]\n"
     ]
    }
   ],
   "source": [
    "print(data)"
   ]
  },
  {
   "cell_type": "code",
   "execution_count": 275,
   "metadata": {},
   "outputs": [
    {
     "name": "stdout",
     "output_type": "stream",
     "text": [
      "Running on 1 processor\n",
      "Overall Time: 15\n",
      "Overall Time: 23\n",
      "Overall Time: 33\n",
      "Overall Time: 45\n",
      "Overall Time: 57\n",
      "\n",
      "Running on 2 processors\n",
      "Overall Time: 13\n",
      "Overall Time: 14\n",
      "Overall Time: 22\n",
      "Overall Time: 26\n",
      "Overall Time: 37\n",
      "\n",
      "Running on 3 processors\n",
      "Overall Time: 13\n",
      "Overall Time: 14\n",
      "Overall Time: 15\n",
      "Overall Time: 21\n",
      "Overall Time: 29\n",
      "\n",
      "Running on 4 processors\n",
      "Overall Time: 13\n",
      "Overall Time: 14\n",
      "Overall Time: 15\n",
      "Overall Time: 16\n",
      "Overall Time: 27\n"
     ]
    }
   ],
   "source": [
    "time_taken = []\n",
    "time_taken_p1 = []\n",
    "time_taken_p2 = []\n",
    "time_taken_p3 = []\n",
    "time_taken_p4 = []\n",
    "    \n",
    "for x in range(1, 5): \n",
    "    \n",
    "    if x == 1:\n",
    "        print(\"Running on\", x, \"processor\")\n",
    "    else :\n",
    "        print()\n",
    "        print(\"Running on\", x, \"processors\")\n",
    "    \n",
    "    subsequence_list = []\n",
    "    \n",
    "    new_list = []\n",
    "        \n",
    "    for i in data:\n",
    "            \n",
    "        subsequence_list.append(i)\n",
    "        \n",
    "        sum_time = 0\n",
    "        \n",
    "        start_time = time.time()\n",
    "        \n",
    "        pool_process(functions.factorial_iterative, subsequence_list, x)   \n",
    "        \n",
    "        stop_time = time.time()\n",
    "        \n",
    "        elapsed_time = stop_time - start_time\n",
    "        \n",
    "        if x == 1:\n",
    "            time_taken_p1.append(elapsed_time)\n",
    "        elif x == 2 :\n",
    "            time_taken_p2.append(elapsed_time)\n",
    "        elif x == 3 :\n",
    "            time_taken_p3.append(elapsed_time)\n",
    "        else :\n",
    "            time_taken_p4.append(elapsed_time)\n",
    "            \n",
    "        new_list.append(elapsed_time)\n",
    "        \n",
    "    time_taken.append(new_list)"
   ]
  },
  {
   "cell_type": "code",
   "execution_count": 281,
   "metadata": {},
   "outputs": [
    {
     "data": {
      "text/plain": [
       "<matplotlib.legend.Legend at 0x7fd70eeca6d0>"
      ]
     },
     "execution_count": 281,
     "metadata": {},
     "output_type": "execute_result"
    },
    {
     "data": {
      "image/png": "[encoded data removed]",
      "text/plain": [
       "<Figure size 720x720 with 1 Axes>"
      ]
     },
     "metadata": {
      "needs_background": "light"
     },
     "output_type": "display_data"
    }
   ],
   "source": [
    "sequence_length = [1, 2, 3, 4 , 5]\n",
    "plt.figure(figsize=(10,10))\n",
    "plt.xlabel('Sequence Length')\n",
    "plt.ylabel('Time taken (seconds)')\n",
    "plt.title('Run time on processors with different sequence lengths')\n",
    "plt.plot(sequence_length, time_taken_p1,  '-o', label='1 Processor')\n",
    "plt.plot(sequence_length, time_taken_p2, '-o', label='2 Processors')\n",
    "plt.plot(sequence_length, time_taken_p3, '-o', label='3 Processors')\n",
    "plt.plot(sequence_length, time_taken_p4, '-o', label='4 Processors')\n",
    "plt.xticks(sequence_length)\n",
    "\n",
    "plt.legend()"
   ]
  },
  {
   "cell_type": "code",
   "execution_count": 5,
   "metadata": {},
   "outputs": [],
   "source": [
    "cores = [1, 2, 3, 4]"
   ]
  },
  {
   "cell_type": "code",
   "execution_count": 9,
   "metadata": {},
   "outputs": [
    {
     "data": {
      "image/png": "[encoded data removed]",
      "text/plain": [
       "<Figure size 720x720 with 1 Axes>"
      ]
     },
     "metadata": {
      "needs_background": "light"
     },
     "output_type": "display_data"
    }
   ],
   "source": [
    "#adapted from - https://www.geeksforgeeks.org/create-a-grouped-bar-plot-in-matplotlib/\n",
    "\n",
    "list_1 = [time[0] for time in time_taken]\n",
    "list_2 = [time[1] for time in time_taken]\n",
    "list_3 = [time[2] for time in time_taken]\n",
    "list_4 = [time[3] for time in time_taken]\n",
    "list_5 = [time[4] for time in time_taken]\n",
    "\n",
    "x = np.arange(1, 5)  \n",
    "width = 0.1\n",
    "\n",
    "\n",
    "plt.figure(figsize=(10, 10))\n",
    "plt.bar(x-0.2, list_1, width)\n",
    "plt.bar(x-0.1, list_2, width)\n",
    "plt.bar(x, list_3, width)\n",
    "plt.bar(x+0.1, list_4, width)\n",
    "plt.bar(x+0.2, list_5, width)\n",
    "\n",
    "plt.title(\"Number of proccesses versus time taken\")\n",
    "plt.xlabel(\"Number of Processors\")\n",
    "plt.ylabel(\"Time (seconds)\")\n",
    "plt.legend([\"Sequence length: \" + str(i) for i in range(1, 6)])\n",
    "plt.xticks(cores)\n",
    "plt.show()"
   ]
  },
  {
   "cell_type": "code",
   "execution_count": 291,
   "metadata": {},
   "outputs": [
    {
     "name": "stdout",
     "output_type": "stream",
     "text": [
      "[[15.140076160430908, 23.167848110198975, 33.67466068267822, 45.3405659198761, 57.092910051345825], [13.610646963119507, 14.056427001953125, 22.8489248752594, 26.547772884368896, 37.610493898391724], [13.511277675628662, 14.264868974685669, 15.65021800994873, 21.96648383140564, 29.2793869972229], [13.437901973724365, 14.060794115066528, 15.404097080230713, 16.50256109237671, 27.88745403289795]]\n"
     ]
    }
   ],
   "source": [
    "print(time_taken)"
   ]
  },
  {
   "cell_type": "code",
   "execution_count": null,
   "metadata": {},
   "outputs": [],
   "source": []
  }
 ],
 "metadata": {
  "kernelspec": {
   "display_name": "Python 3",
   "language": "python",
   "name": "python3"
  },
  "language_info": {
   "codemirror_mode": {
    "name": "ipython",
    "version": 3
   },
   "file_extension": ".py",
   "mimetype": "text/x-python",
   "name": "python",
   "nbconvert_exporter": "python",
   "pygments_lexer": "ipython3",
   "version": "3.8.8"
  }
 },
 "nbformat": 4,
 "nbformat_minor": 1
}
